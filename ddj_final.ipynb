{
 "cells": [
  {
   "cell_type": "code",
   "execution_count": 1,
   "id": "2c68a27e",
   "metadata": {},
   "outputs": [],
   "source": [
    "import pandas as pd\n",
    "import requests\n",
    "import numpy as np\n",
    "from datetime import date\n",
    "import yfinance as yf\n",
    "import matplotlib.pyplot as plt\n",
    "import streamlit as st"
   ]
  },
  {
   "cell_type": "code",
   "execution_count": 2,
   "id": "67fc04f9",
   "metadata": {},
   "outputs": [
    {
     "name": "stderr",
     "output_type": "stream",
     "text": [
      "2023-11-13 19:57:05.625 \n",
      "  \u001b[33m\u001b[1mWarning:\u001b[0m to view this Streamlit app on a browser, run it with the following\n",
      "  command:\n",
      "\n",
      "    streamlit run C:\\Users\\Shahan\\AppData\\Roaming\\Python\\Python310\\site-packages\\ipykernel_launcher.py [ARGUMENTS]\n"
     ]
    }
   ],
   "source": [
    "START = \"2015-01-01\"\n",
    "TODAY = date.today().strftime(\"%Y-%m-%d\")\n",
    "stocks = ('GME')\n",
    "selected_stock = st.selectbox('Select dataset for prediction', stocks)"
   ]
  },
  {
   "cell_type": "code",
   "execution_count": 3,
   "id": "ec0ef659",
   "metadata": {},
   "outputs": [],
   "source": [
    "def load_data(ticker):\n",
    "    data = yf.download('BTC-USD', START, TODAY)\n",
    "    data.reset_index(inplace=True)\n",
    "    return data"
   ]
  },
  {
   "cell_type": "code",
   "execution_count": 4,
   "id": "d1eefeb5",
   "metadata": {},
   "outputs": [
    {
     "name": "stdout",
     "output_type": "stream",
     "text": [
      "[*********************100%%**********************]  1 of 1 completed\n"
     ]
    }
   ],
   "source": [
    "data = load_data(stocks)"
   ]
  },
  {
   "cell_type": "code",
   "execution_count": 5,
   "id": "611bc956",
   "metadata": {},
   "outputs": [
    {
     "data": {
      "text/html": [
       "<div>\n",
       "<style scoped>\n",
       "    .dataframe tbody tr th:only-of-type {\n",
       "        vertical-align: middle;\n",
       "    }\n",
       "\n",
       "    .dataframe tbody tr th {\n",
       "        vertical-align: top;\n",
       "    }\n",
       "\n",
       "    .dataframe thead th {\n",
       "        text-align: right;\n",
       "    }\n",
       "</style>\n",
       "<table border=\"1\" class=\"dataframe\">\n",
       "  <thead>\n",
       "    <tr style=\"text-align: right;\">\n",
       "      <th></th>\n",
       "      <th>Date</th>\n",
       "      <th>Open</th>\n",
       "      <th>High</th>\n",
       "      <th>Low</th>\n",
       "      <th>Close</th>\n",
       "      <th>Adj Close</th>\n",
       "      <th>Volume</th>\n",
       "    </tr>\n",
       "  </thead>\n",
       "  <tbody>\n",
       "    <tr>\n",
       "      <th>0</th>\n",
       "      <td>2015-01-01</td>\n",
       "      <td>320.434998</td>\n",
       "      <td>320.434998</td>\n",
       "      <td>314.002991</td>\n",
       "      <td>314.248993</td>\n",
       "      <td>314.248993</td>\n",
       "      <td>8036550</td>\n",
       "    </tr>\n",
       "    <tr>\n",
       "      <th>1</th>\n",
       "      <td>2015-01-02</td>\n",
       "      <td>314.079010</td>\n",
       "      <td>315.838989</td>\n",
       "      <td>313.565002</td>\n",
       "      <td>315.032013</td>\n",
       "      <td>315.032013</td>\n",
       "      <td>7860650</td>\n",
       "    </tr>\n",
       "    <tr>\n",
       "      <th>2</th>\n",
       "      <td>2015-01-03</td>\n",
       "      <td>314.846008</td>\n",
       "      <td>315.149994</td>\n",
       "      <td>281.082001</td>\n",
       "      <td>281.082001</td>\n",
       "      <td>281.082001</td>\n",
       "      <td>33054400</td>\n",
       "    </tr>\n",
       "    <tr>\n",
       "      <th>3</th>\n",
       "      <td>2015-01-04</td>\n",
       "      <td>281.145996</td>\n",
       "      <td>287.230011</td>\n",
       "      <td>257.612000</td>\n",
       "      <td>264.195007</td>\n",
       "      <td>264.195007</td>\n",
       "      <td>55629100</td>\n",
       "    </tr>\n",
       "    <tr>\n",
       "      <th>4</th>\n",
       "      <td>2015-01-05</td>\n",
       "      <td>265.084015</td>\n",
       "      <td>278.341003</td>\n",
       "      <td>265.084015</td>\n",
       "      <td>274.473999</td>\n",
       "      <td>274.473999</td>\n",
       "      <td>43962800</td>\n",
       "    </tr>\n",
       "  </tbody>\n",
       "</table>\n",
       "</div>"
      ],
      "text/plain": [
       "        Date        Open        High         Low       Close   Adj Close  \\\n",
       "0 2015-01-01  320.434998  320.434998  314.002991  314.248993  314.248993   \n",
       "1 2015-01-02  314.079010  315.838989  313.565002  315.032013  315.032013   \n",
       "2 2015-01-03  314.846008  315.149994  281.082001  281.082001  281.082001   \n",
       "3 2015-01-04  281.145996  287.230011  257.612000  264.195007  264.195007   \n",
       "4 2015-01-05  265.084015  278.341003  265.084015  274.473999  274.473999   \n",
       "\n",
       "     Volume  \n",
       "0   8036550  \n",
       "1   7860650  \n",
       "2  33054400  \n",
       "3  55629100  \n",
       "4  43962800  "
      ]
     },
     "execution_count": 5,
     "metadata": {},
     "output_type": "execute_result"
    }
   ],
   "source": [
    "data.head()\n"
   ]
  },
  {
   "cell_type": "code",
   "execution_count": 6,
   "id": "435ded93",
   "metadata": {},
   "outputs": [
    {
     "data": {
      "text/html": [
       "<div>\n",
       "<style scoped>\n",
       "    .dataframe tbody tr th:only-of-type {\n",
       "        vertical-align: middle;\n",
       "    }\n",
       "\n",
       "    .dataframe tbody tr th {\n",
       "        vertical-align: top;\n",
       "    }\n",
       "\n",
       "    .dataframe thead th {\n",
       "        text-align: right;\n",
       "    }\n",
       "</style>\n",
       "<table border=\"1\" class=\"dataframe\">\n",
       "  <thead>\n",
       "    <tr style=\"text-align: right;\">\n",
       "      <th></th>\n",
       "      <th>Date</th>\n",
       "      <th>Open</th>\n",
       "      <th>High</th>\n",
       "      <th>Low</th>\n",
       "      <th>Close</th>\n",
       "      <th>Adj Close</th>\n",
       "      <th>Volume</th>\n",
       "    </tr>\n",
       "  </thead>\n",
       "  <tbody>\n",
       "    <tr>\n",
       "      <th>3233</th>\n",
       "      <td>2023-11-08</td>\n",
       "      <td>35419.476562</td>\n",
       "      <td>35994.417969</td>\n",
       "      <td>35147.800781</td>\n",
       "      <td>35655.277344</td>\n",
       "      <td>35655.277344</td>\n",
       "      <td>17295394918</td>\n",
       "    </tr>\n",
       "    <tr>\n",
       "      <th>3234</th>\n",
       "      <td>2023-11-09</td>\n",
       "      <td>35633.632812</td>\n",
       "      <td>37926.257812</td>\n",
       "      <td>35592.101562</td>\n",
       "      <td>36693.125000</td>\n",
       "      <td>36693.125000</td>\n",
       "      <td>37762672382</td>\n",
       "    </tr>\n",
       "    <tr>\n",
       "      <th>3235</th>\n",
       "      <td>2023-11-10</td>\n",
       "      <td>36702.250000</td>\n",
       "      <td>37493.800781</td>\n",
       "      <td>36362.753906</td>\n",
       "      <td>37313.968750</td>\n",
       "      <td>37313.968750</td>\n",
       "      <td>22711265155</td>\n",
       "    </tr>\n",
       "    <tr>\n",
       "      <th>3236</th>\n",
       "      <td>2023-11-11</td>\n",
       "      <td>37310.070312</td>\n",
       "      <td>37407.093750</td>\n",
       "      <td>36773.667969</td>\n",
       "      <td>37138.050781</td>\n",
       "      <td>37138.050781</td>\n",
       "      <td>13924272142</td>\n",
       "    </tr>\n",
       "    <tr>\n",
       "      <th>3237</th>\n",
       "      <td>2023-11-12</td>\n",
       "      <td>37133.992188</td>\n",
       "      <td>37227.691406</td>\n",
       "      <td>36779.117188</td>\n",
       "      <td>37054.519531</td>\n",
       "      <td>37054.519531</td>\n",
       "      <td>11545715999</td>\n",
       "    </tr>\n",
       "  </tbody>\n",
       "</table>\n",
       "</div>"
      ],
      "text/plain": [
       "           Date          Open          High           Low         Close  \\\n",
       "3233 2023-11-08  35419.476562  35994.417969  35147.800781  35655.277344   \n",
       "3234 2023-11-09  35633.632812  37926.257812  35592.101562  36693.125000   \n",
       "3235 2023-11-10  36702.250000  37493.800781  36362.753906  37313.968750   \n",
       "3236 2023-11-11  37310.070312  37407.093750  36773.667969  37138.050781   \n",
       "3237 2023-11-12  37133.992188  37227.691406  36779.117188  37054.519531   \n",
       "\n",
       "         Adj Close       Volume  \n",
       "3233  35655.277344  17295394918  \n",
       "3234  36693.125000  37762672382  \n",
       "3235  37313.968750  22711265155  \n",
       "3236  37138.050781  13924272142  \n",
       "3237  37054.519531  11545715999  "
      ]
     },
     "execution_count": 6,
     "metadata": {},
     "output_type": "execute_result"
    }
   ],
   "source": [
    "data.tail()"
   ]
  },
  {
   "cell_type": "code",
   "execution_count": 7,
   "id": "af01b010",
   "metadata": {},
   "outputs": [
    {
     "data": {
      "text/html": [
       "<div>\n",
       "<style scoped>\n",
       "    .dataframe tbody tr th:only-of-type {\n",
       "        vertical-align: middle;\n",
       "    }\n",
       "\n",
       "    .dataframe tbody tr th {\n",
       "        vertical-align: top;\n",
       "    }\n",
       "\n",
       "    .dataframe thead th {\n",
       "        text-align: right;\n",
       "    }\n",
       "</style>\n",
       "<table border=\"1\" class=\"dataframe\">\n",
       "  <thead>\n",
       "    <tr style=\"text-align: right;\">\n",
       "      <th></th>\n",
       "      <th>index</th>\n",
       "      <th>Date</th>\n",
       "      <th>Open</th>\n",
       "      <th>High</th>\n",
       "      <th>Low</th>\n",
       "      <th>Close</th>\n",
       "      <th>Adj Close</th>\n",
       "      <th>Volume</th>\n",
       "    </tr>\n",
       "  </thead>\n",
       "  <tbody>\n",
       "    <tr>\n",
       "      <th>0</th>\n",
       "      <td>0</td>\n",
       "      <td>2015-01-01</td>\n",
       "      <td>320.434998</td>\n",
       "      <td>320.434998</td>\n",
       "      <td>314.002991</td>\n",
       "      <td>314.248993</td>\n",
       "      <td>314.248993</td>\n",
       "      <td>8036550</td>\n",
       "    </tr>\n",
       "    <tr>\n",
       "      <th>1</th>\n",
       "      <td>1</td>\n",
       "      <td>2015-01-02</td>\n",
       "      <td>314.079010</td>\n",
       "      <td>315.838989</td>\n",
       "      <td>313.565002</td>\n",
       "      <td>315.032013</td>\n",
       "      <td>315.032013</td>\n",
       "      <td>7860650</td>\n",
       "    </tr>\n",
       "    <tr>\n",
       "      <th>2</th>\n",
       "      <td>2</td>\n",
       "      <td>2015-01-03</td>\n",
       "      <td>314.846008</td>\n",
       "      <td>315.149994</td>\n",
       "      <td>281.082001</td>\n",
       "      <td>281.082001</td>\n",
       "      <td>281.082001</td>\n",
       "      <td>33054400</td>\n",
       "    </tr>\n",
       "    <tr>\n",
       "      <th>3</th>\n",
       "      <td>3</td>\n",
       "      <td>2015-01-04</td>\n",
       "      <td>281.145996</td>\n",
       "      <td>287.230011</td>\n",
       "      <td>257.612000</td>\n",
       "      <td>264.195007</td>\n",
       "      <td>264.195007</td>\n",
       "      <td>55629100</td>\n",
       "    </tr>\n",
       "    <tr>\n",
       "      <th>4</th>\n",
       "      <td>4</td>\n",
       "      <td>2015-01-05</td>\n",
       "      <td>265.084015</td>\n",
       "      <td>278.341003</td>\n",
       "      <td>265.084015</td>\n",
       "      <td>274.473999</td>\n",
       "      <td>274.473999</td>\n",
       "      <td>43962800</td>\n",
       "    </tr>\n",
       "  </tbody>\n",
       "</table>\n",
       "</div>"
      ],
      "text/plain": [
       "   index       Date        Open        High         Low       Close  \\\n",
       "0      0 2015-01-01  320.434998  320.434998  314.002991  314.248993   \n",
       "1      1 2015-01-02  314.079010  315.838989  313.565002  315.032013   \n",
       "2      2 2015-01-03  314.846008  315.149994  281.082001  281.082001   \n",
       "3      3 2015-01-04  281.145996  287.230011  257.612000  264.195007   \n",
       "4      4 2015-01-05  265.084015  278.341003  265.084015  274.473999   \n",
       "\n",
       "    Adj Close    Volume  \n",
       "0  314.248993   8036550  \n",
       "1  315.032013   7860650  \n",
       "2  281.082001  33054400  \n",
       "3  264.195007  55629100  \n",
       "4  274.473999  43962800  "
      ]
     },
     "execution_count": 7,
     "metadata": {},
     "output_type": "execute_result"
    }
   ],
   "source": [
    "data = data.reset_index()\n",
    "data.head()"
   ]
  },
  {
   "cell_type": "code",
   "execution_count": 8,
   "id": "468944d9",
   "metadata": {
    "scrolled": true
   },
   "outputs": [
    {
     "data": {
      "text/html": [
       "<div>\n",
       "<style scoped>\n",
       "    .dataframe tbody tr th:only-of-type {\n",
       "        vertical-align: middle;\n",
       "    }\n",
       "\n",
       "    .dataframe tbody tr th {\n",
       "        vertical-align: top;\n",
       "    }\n",
       "\n",
       "    .dataframe thead th {\n",
       "        text-align: right;\n",
       "    }\n",
       "</style>\n",
       "<table border=\"1\" class=\"dataframe\">\n",
       "  <thead>\n",
       "    <tr style=\"text-align: right;\">\n",
       "      <th></th>\n",
       "      <th>index</th>\n",
       "      <th>Open</th>\n",
       "      <th>High</th>\n",
       "      <th>Low</th>\n",
       "      <th>Close</th>\n",
       "      <th>Volume</th>\n",
       "    </tr>\n",
       "  </thead>\n",
       "  <tbody>\n",
       "    <tr>\n",
       "      <th>0</th>\n",
       "      <td>0</td>\n",
       "      <td>320.434998</td>\n",
       "      <td>320.434998</td>\n",
       "      <td>314.002991</td>\n",
       "      <td>314.248993</td>\n",
       "      <td>8036550</td>\n",
       "    </tr>\n",
       "    <tr>\n",
       "      <th>1</th>\n",
       "      <td>1</td>\n",
       "      <td>314.079010</td>\n",
       "      <td>315.838989</td>\n",
       "      <td>313.565002</td>\n",
       "      <td>315.032013</td>\n",
       "      <td>7860650</td>\n",
       "    </tr>\n",
       "    <tr>\n",
       "      <th>2</th>\n",
       "      <td>2</td>\n",
       "      <td>314.846008</td>\n",
       "      <td>315.149994</td>\n",
       "      <td>281.082001</td>\n",
       "      <td>281.082001</td>\n",
       "      <td>33054400</td>\n",
       "    </tr>\n",
       "    <tr>\n",
       "      <th>3</th>\n",
       "      <td>3</td>\n",
       "      <td>281.145996</td>\n",
       "      <td>287.230011</td>\n",
       "      <td>257.612000</td>\n",
       "      <td>264.195007</td>\n",
       "      <td>55629100</td>\n",
       "    </tr>\n",
       "    <tr>\n",
       "      <th>4</th>\n",
       "      <td>4</td>\n",
       "      <td>265.084015</td>\n",
       "      <td>278.341003</td>\n",
       "      <td>265.084015</td>\n",
       "      <td>274.473999</td>\n",
       "      <td>43962800</td>\n",
       "    </tr>\n",
       "  </tbody>\n",
       "</table>\n",
       "</div>"
      ],
      "text/plain": [
       "   index        Open        High         Low       Close    Volume\n",
       "0      0  320.434998  320.434998  314.002991  314.248993   8036550\n",
       "1      1  314.079010  315.838989  313.565002  315.032013   7860650\n",
       "2      2  314.846008  315.149994  281.082001  281.082001  33054400\n",
       "3      3  281.145996  287.230011  257.612000  264.195007  55629100\n",
       "4      4  265.084015  278.341003  265.084015  274.473999  43962800"
      ]
     },
     "execution_count": 8,
     "metadata": {},
     "output_type": "execute_result"
    }
   ],
   "source": [
    "data = data.drop([\"Date\",\"Adj Close\"], axis=1)\n",
    "data.head()"
   ]
  },
  {
   "cell_type": "code",
   "execution_count": 9,
   "id": "7a6afb41",
   "metadata": {},
   "outputs": [
    {
     "data": {
      "text/plain": [
       "[<matplotlib.lines.Line2D at 0x13edfbd9ed0>]"
      ]
     },
     "execution_count": 9,
     "metadata": {},
     "output_type": "execute_result"
    },
    {
     "data": {
      "image/png": "[encoded data removed]",
      "text/plain": [
       "<Figure size 640x480 with 1 Axes>"
      ]
     },
     "metadata": {},
     "output_type": "display_data"
    }
   ],
   "source": [
    "plt.plot(data.Close)"
   ]
  },
  {
   "cell_type": "code",
   "execution_count": 10,
   "id": "69676834",
   "metadata": {},
   "outputs": [
    {
     "data": {
      "text/plain": [
       "0                NaN\n",
       "1                NaN\n",
       "2                NaN\n",
       "3                NaN\n",
       "4                NaN\n",
       "            ...     \n",
       "3233    28564.290020\n",
       "3234    28634.463945\n",
       "3235    28716.084043\n",
       "3236    28795.677754\n",
       "3237    28875.482031\n",
       "Name: Close, Length: 3238, dtype: float64"
      ]
     },
     "execution_count": 10,
     "metadata": {},
     "output_type": "execute_result"
    }
   ],
   "source": [
    "ma100 = data.Close.rolling(100).mean()\n",
    "ma100"
   ]
  },
  {
   "cell_type": "code",
   "execution_count": 11,
   "id": "83238b41",
   "metadata": {
    "scrolled": false
   },
   "outputs": [
    {
     "data": {
      "text/plain": [
       "[<matplotlib.lines.Line2D at 0x13ee1e714e0>]"
      ]
     },
     "execution_count": 11,
     "metadata": {},
     "output_type": "execute_result"
    },
    {
     "data": {
      "image/png": "[encoded data removed]",
      "text/plain": [
       "<Figure size 1200x600 with 1 Axes>"
      ]
     },
     "metadata": {},
     "output_type": "display_data"
    }
   ],
   "source": [
    "plt.figure(figsize = (12,6))\n",
    "plt.plot(data.Close)\n",
    "plt.plot(ma100,'r')"
   ]
  },
  {
   "cell_type": "code",
   "execution_count": 12,
   "id": "4a719ccc",
   "metadata": {},
   "outputs": [
    {
     "data": {
      "text/plain": [
       "(3238, 6)"
      ]
     },
     "execution_count": 12,
     "metadata": {},
     "output_type": "execute_result"
    }
   ],
   "source": [
    "data.shape"
   ]
  },
  {
   "cell_type": "code",
   "execution_count": 13,
   "id": "6aa6b661",
   "metadata": {},
   "outputs": [
    {
     "name": "stdout",
     "output_type": "stream",
     "text": [
      "(2266, 1)\n",
      "(972, 1)\n"
     ]
    }
   ],
   "source": [
    "data_training = pd.DataFrame(data['Close'][0:int(len(data)*0.70)])\n",
    "data_testing = pd.DataFrame(data['Close'][int(len(data)*0.70):int(len(data))])\n",
    "\n",
    "print(data_training.shape)\n",
    "print(data_testing.shape)"
   ]
  },
  {
   "cell_type": "code",
   "execution_count": 14,
   "id": "d148fe30",
   "metadata": {},
   "outputs": [
    {
     "data": {
      "text/html": [
       "<div>\n",
       "<style scoped>\n",
       "    .dataframe tbody tr th:only-of-type {\n",
       "        vertical-align: middle;\n",
       "    }\n",
       "\n",
       "    .dataframe tbody tr th {\n",
       "        vertical-align: top;\n",
       "    }\n",
       "\n",
       "    .dataframe thead th {\n",
       "        text-align: right;\n",
       "    }\n",
       "</style>\n",
       "<table border=\"1\" class=\"dataframe\">\n",
       "  <thead>\n",
       "    <tr style=\"text-align: right;\">\n",
       "      <th></th>\n",
       "      <th>Close</th>\n",
       "    </tr>\n",
       "  </thead>\n",
       "  <tbody>\n",
       "    <tr>\n",
       "      <th>2261</th>\n",
       "      <td>57805.121094</td>\n",
       "    </tr>\n",
       "    <tr>\n",
       "      <th>2262</th>\n",
       "      <td>57332.089844</td>\n",
       "    </tr>\n",
       "    <tr>\n",
       "      <th>2263</th>\n",
       "      <td>61243.085938</td>\n",
       "    </tr>\n",
       "    <tr>\n",
       "      <th>2264</th>\n",
       "      <td>59302.316406</td>\n",
       "    </tr>\n",
       "    <tr>\n",
       "      <th>2265</th>\n",
       "      <td>55907.199219</td>\n",
       "    </tr>\n",
       "  </tbody>\n",
       "</table>\n",
       "</div>"
      ],
      "text/plain": [
       "             Close\n",
       "2261  57805.121094\n",
       "2262  57332.089844\n",
       "2263  61243.085938\n",
       "2264  59302.316406\n",
       "2265  55907.199219"
      ]
     },
     "execution_count": 14,
     "metadata": {},
     "output_type": "execute_result"
    }
   ],
   "source": [
    "data_training.tail()"
   ]
  },
  {
   "cell_type": "code",
   "execution_count": 15,
   "id": "abbb7537",
   "metadata": {},
   "outputs": [],
   "source": [
    "from sklearn.preprocessing import MinMaxScaler\n",
    "scaler = MinMaxScaler(feature_range=(0,1))"
   ]
  },
  {
   "cell_type": "code",
   "execution_count": 16,
   "id": "48396070",
   "metadata": {},
   "outputs": [
    {
     "data": {
      "text/plain": [
       "array([[0.00222953],\n",
       "       [0.00224235],\n",
       "       [0.00168638],\n",
       "       ...,\n",
       "       [1.        ],\n",
       "       [0.96821796],\n",
       "       [0.91261953]])"
      ]
     },
     "execution_count": 16,
     "metadata": {},
     "output_type": "execute_result"
    }
   ],
   "source": [
    "data_training_array = scaler.fit_transform(data_training)\n",
    "data_training_array"
   ]
  },
  {
   "cell_type": "code",
   "execution_count": 17,
   "id": "2e5455e5",
   "metadata": {},
   "outputs": [
    {
     "data": {
      "text/plain": [
       "(2266, 1)"
      ]
     },
     "execution_count": 17,
     "metadata": {},
     "output_type": "execute_result"
    }
   ],
   "source": [
    "data_training_array.shape"
   ]
  },
  {
   "cell_type": "code",
   "execution_count": 18,
   "id": "76eb7b80",
   "metadata": {},
   "outputs": [
    {
     "data": {
      "text/plain": [
       "(2166, 100, 1)"
      ]
     },
     "execution_count": 18,
     "metadata": {},
     "output_type": "execute_result"
    }
   ],
   "source": [
    "x_train = []\n",
    "y_train = []\n",
    "\n",
    "for i in range (100, data_training_array.shape[0]):\n",
    "    x_train.append(data_training_array[i-100: i])\n",
    "    y_train.append(data_training_array[i, 0])\n",
    "    \n",
    "x_train, y_train = np.array(x_train), np.array(y_train)\n",
    "x_train.shape"
   ]
  },
  {
   "cell_type": "code",
   "execution_count": 19,
   "id": "95700297",
   "metadata": {},
   "outputs": [],
   "source": [
    "from keras.layers import Dense, Dropout, LSTM\n",
    "from keras.models import Sequential"
   ]
  },
  {
   "cell_type": "code",
   "execution_count": 20,
   "id": "a06ea4a8",
   "metadata": {},
   "outputs": [],
   "source": [
    "model = Sequential()\n",
    "model.add(LSTM(units = 20, activation = 'relu', return_sequences = True, \n",
    "               input_shape = (x_train.shape[1], 1)))\n",
    "model.add(Dropout(0.2))\n",
    "\n",
    "model.add(LSTM(units = 40, activation = 'relu', return_sequences = True))\n",
    "model.add(Dropout(0.3))\n",
    "\n",
    "model.add(LSTM(units = 60, activation = 'relu', return_sequences = True))\n",
    "model.add(Dropout(0.4))\n",
    "model.add(LSTM(units = 90, activation = 'relu'))\n",
    "model.add(Dropout(0.5))\n",
    "\n",
    "#model density\n",
    "model.add(Dense(units=3))"
   ]
  },
  {
   "cell_type": "code",
   "execution_count": 21,
   "id": "92f3754f",
   "metadata": {},
   "outputs": [
    {
     "name": "stdout",
     "output_type": "stream",
     "text": [
      "Model: \"sequential\"\n",
      "_________________________________________________________________\n",
      " Layer (type)                Output Shape              Param #   \n",
      "=================================================================\n",
      " lstm (LSTM)                 (None, 100, 20)           1760      \n",
      "                                                                 \n",
      " dropout (Dropout)           (None, 100, 20)           0         \n",
      "                                                                 \n",
      " lstm_1 (LSTM)               (None, 100, 40)           9760      \n",
      "                                                                 \n",
      " dropout_1 (Dropout)         (None, 100, 40)           0         \n",
      "                                                                 \n",
      " lstm_2 (LSTM)               (None, 100, 60)           24240     \n",
      "                                                                 \n",
      " dropout_2 (Dropout)         (None, 100, 60)           0         \n",
      "                                                                 \n",
      " lstm_3 (LSTM)               (None, 90)                54360     \n",
      "                                                                 \n",
      " dropout_3 (Dropout)         (None, 90)                0         \n",
      "                                                                 \n",
      " dense (Dense)               (None, 3)                 273       \n",
      "                                                                 \n",
      "=================================================================\n",
      "Total params: 90393 (353.10 KB)\n",
      "Trainable params: 90393 (353.10 KB)\n",
      "Non-trainable params: 0 (0.00 Byte)\n",
      "_________________________________________________________________\n"
     ]
    }
   ],
   "source": [
    "model.summary()"
   ]
  },
  {
   "cell_type": "code",
   "execution_count": 22,
   "id": "b0612fe1",
   "metadata": {},
   "outputs": [
    {
     "name": "stdout",
     "output_type": "stream",
     "text": [
      "Epoch 1/100\n",
      "68/68 [==============================] - 13s 123ms/step - loss: 0.0279\n",
      "Epoch 2/100\n",
      "68/68 [==============================] - 10s 140ms/step - loss: 0.0139\n",
      "Epoch 3/100\n",
      "68/68 [==============================] - 9s 133ms/step - loss: 0.0065\n",
      "Epoch 4/100\n",
      "68/68 [==============================] - 10s 143ms/step - loss: 0.0029\n",
      "Epoch 5/100\n",
      "68/68 [==============================] - 9s 134ms/step - loss: 0.0024\n",
      "Epoch 6/100\n",
      "68/68 [==============================] - 10s 148ms/step - loss: 0.0024\n",
      "Epoch 7/100\n",
      "68/68 [==============================] - 10s 143ms/step - loss: 0.0020\n",
      "Epoch 8/100\n",
      "68/68 [==============================] - 10s 140ms/step - loss: 0.0025\n",
      "Epoch 9/100\n",
      "68/68 [==============================] - 9s 138ms/step - loss: 0.0022\n",
      "Epoch 10/100\n",
      "68/68 [==============================] - 9s 133ms/step - loss: 0.0017\n",
      "Epoch 11/100\n",
      "68/68 [==============================] - 9s 136ms/step - loss: 0.0018\n",
      "Epoch 12/100\n",
      "68/68 [==============================] - 9s 138ms/step - loss: 0.0017\n",
      "Epoch 13/100\n",
      "68/68 [==============================] - 9s 130ms/step - loss: 0.0017\n",
      "Epoch 14/100\n",
      "68/68 [==============================] - 9s 130ms/step - loss: 0.0020\n",
      "Epoch 15/100\n",
      "68/68 [==============================] - 9s 131ms/step - loss: 0.0016\n",
      "Epoch 16/100\n",
      "68/68 [==============================] - 9s 130ms/step - loss: 0.0016\n",
      "Epoch 17/100\n",
      "68/68 [==============================] - 9s 130ms/step - loss: 0.0015\n",
      "Epoch 18/100\n",
      "68/68 [==============================] - 9s 130ms/step - loss: 0.0017\n",
      "Epoch 19/100\n",
      "68/68 [==============================] - 9s 130ms/step - loss: 0.0017\n",
      "Epoch 20/100\n",
      "68/68 [==============================] - 9s 130ms/step - loss: 0.0016\n",
      "Epoch 21/100\n",
      "68/68 [==============================] - 9s 130ms/step - loss: 0.0015\n",
      "Epoch 22/100\n",
      "68/68 [==============================] - 9s 130ms/step - loss: 0.0016\n",
      "Epoch 23/100\n",
      "68/68 [==============================] - 9s 131ms/step - loss: 0.0015\n",
      "Epoch 24/100\n",
      "68/68 [==============================] - 9s 133ms/step - loss: 0.0014\n",
      "Epoch 25/100\n",
      "68/68 [==============================] - 10s 146ms/step - loss: 0.0015\n",
      "Epoch 26/100\n",
      "68/68 [==============================] - 9s 137ms/step - loss: 0.0015\n",
      "Epoch 27/100\n",
      "68/68 [==============================] - 10s 151ms/step - loss: 0.0013\n",
      "Epoch 28/100\n",
      "68/68 [==============================] - 9s 135ms/step - loss: 0.0017\n",
      "Epoch 29/100\n",
      "68/68 [==============================] - 9s 136ms/step - loss: 0.0016\n",
      "Epoch 30/100\n",
      "68/68 [==============================] - 9s 139ms/step - loss: 0.0013\n",
      "Epoch 31/100\n",
      "68/68 [==============================] - 9s 131ms/step - loss: 0.0012\n",
      "Epoch 32/100\n",
      "68/68 [==============================] - 9s 133ms/step - loss: 0.0013\n",
      "Epoch 33/100\n",
      "68/68 [==============================] - 9s 131ms/step - loss: 0.0014\n",
      "Epoch 34/100\n",
      "68/68 [==============================] - 9s 132ms/step - loss: 0.0015\n",
      "Epoch 35/100\n",
      "68/68 [==============================] - 14s 208ms/step - loss: 0.0016\n",
      "Epoch 36/100\n",
      "68/68 [==============================] - 11s 157ms/step - loss: 0.0016\n",
      "Epoch 37/100\n",
      "68/68 [==============================] - 9s 130ms/step - loss: 0.0014\n",
      "Epoch 38/100\n",
      "68/68 [==============================] - 9s 130ms/step - loss: 0.0014\n",
      "Epoch 39/100\n",
      "68/68 [==============================] - 9s 129ms/step - loss: 0.0013\n",
      "Epoch 40/100\n",
      "68/68 [==============================] - 10s 151ms/step - loss: 0.0013\n",
      "Epoch 41/100\n",
      "68/68 [==============================] - 14s 209ms/step - loss: 0.0013\n",
      "Epoch 42/100\n",
      "68/68 [==============================] - 12s 169ms/step - loss: 0.0011\n",
      "Epoch 43/100\n",
      "68/68 [==============================] - 9s 133ms/step - loss: 0.0014\n",
      "Epoch 44/100\n",
      "68/68 [==============================] - 10s 151ms/step - loss: 0.0016\n",
      "Epoch 45/100\n",
      "68/68 [==============================] - 9s 130ms/step - loss: 0.0015\n",
      "Epoch 46/100\n",
      "68/68 [==============================] - 9s 126ms/step - loss: 0.0016\n",
      "Epoch 47/100\n",
      "68/68 [==============================] - 9s 139ms/step - loss: 0.0014\n",
      "Epoch 48/100\n",
      "68/68 [==============================] - 9s 131ms/step - loss: 0.0014\n",
      "Epoch 49/100\n",
      "68/68 [==============================] - 9s 133ms/step - loss: 0.0012\n",
      "Epoch 50/100\n",
      "68/68 [==============================] - 10s 143ms/step - loss: 0.0014\n",
      "Epoch 51/100\n",
      "68/68 [==============================] - 9s 136ms/step - loss: 0.0014\n",
      "Epoch 52/100\n",
      "68/68 [==============================] - 9s 133ms/step - loss: 0.0012\n",
      "Epoch 53/100\n",
      "68/68 [==============================] - 9s 134ms/step - loss: 0.0011\n",
      "Epoch 54/100\n",
      "68/68 [==============================] - 9s 131ms/step - loss: 0.0012\n",
      "Epoch 55/100\n",
      "68/68 [==============================] - 9s 129ms/step - loss: 0.0011\n",
      "Epoch 56/100\n",
      "68/68 [==============================] - 9s 130ms/step - loss: 0.0011\n",
      "Epoch 57/100\n",
      "68/68 [==============================] - 9s 129ms/step - loss: 0.0011\n",
      "Epoch 58/100\n",
      "68/68 [==============================] - 9s 129ms/step - loss: 0.0013\n",
      "Epoch 59/100\n",
      "68/68 [==============================] - 9s 128ms/step - loss: 0.0015\n",
      "Epoch 60/100\n",
      "68/68 [==============================] - 9s 129ms/step - loss: 0.0012\n",
      "Epoch 61/100\n",
      "68/68 [==============================] - 9s 131ms/step - loss: 0.0011\n",
      "Epoch 62/100\n",
      "68/68 [==============================] - 9s 130ms/step - loss: 0.0012\n",
      "Epoch 63/100\n",
      "68/68 [==============================] - 9s 129ms/step - loss: 0.0012\n",
      "Epoch 64/100\n",
      "68/68 [==============================] - 9s 128ms/step - loss: 0.0011\n",
      "Epoch 65/100\n",
      "68/68 [==============================] - 9s 129ms/step - loss: 0.0016\n",
      "Epoch 66/100\n",
      "68/68 [==============================] - 9s 127ms/step - loss: 0.0013\n",
      "Epoch 67/100\n",
      "68/68 [==============================] - 9s 131ms/step - loss: 0.0013\n",
      "Epoch 68/100\n",
      "68/68 [==============================] - 9s 129ms/step - loss: 0.0011\n",
      "Epoch 69/100\n",
      "68/68 [==============================] - 9s 132ms/step - loss: 0.0015\n",
      "Epoch 70/100\n",
      "68/68 [==============================] - 9s 131ms/step - loss: 0.0011\n",
      "Epoch 71/100\n",
      "68/68 [==============================] - 9s 130ms/step - loss: 0.0010\n",
      "Epoch 72/100\n",
      "68/68 [==============================] - 9s 131ms/step - loss: 0.0013\n",
      "Epoch 73/100\n",
      "68/68 [==============================] - 9s 129ms/step - loss: 0.0011\n",
      "Epoch 74/100\n",
      "68/68 [==============================] - 9s 128ms/step - loss: 0.0013\n",
      "Epoch 75/100\n",
      "68/68 [==============================] - 9s 130ms/step - loss: 0.0011\n",
      "Epoch 76/100\n",
      "68/68 [==============================] - 9s 127ms/step - loss: 0.0013\n",
      "Epoch 77/100\n",
      "68/68 [==============================] - 9s 131ms/step - loss: 0.0012\n",
      "Epoch 78/100\n",
      "68/68 [==============================] - 9s 127ms/step - loss: 9.9168e-04\n",
      "Epoch 79/100\n",
      "68/68 [==============================] - 9s 130ms/step - loss: 0.0011\n",
      "Epoch 80/100\n",
      "68/68 [==============================] - 9s 128ms/step - loss: 0.0011\n",
      "Epoch 81/100\n",
      "68/68 [==============================] - 9s 128ms/step - loss: 9.7747e-04\n",
      "Epoch 82/100\n",
      "68/68 [==============================] - 9s 128ms/step - loss: 0.0011\n",
      "Epoch 83/100\n",
      "68/68 [==============================] - 9s 129ms/step - loss: 0.0011\n",
      "Epoch 84/100\n",
      "68/68 [==============================] - 9s 130ms/step - loss: 0.0012\n",
      "Epoch 85/100\n",
      "68/68 [==============================] - 9s 129ms/step - loss: 9.6790e-04\n",
      "Epoch 86/100\n",
      "68/68 [==============================] - 9s 130ms/step - loss: 0.0011\n",
      "Epoch 87/100\n",
      "68/68 [==============================] - 9s 130ms/step - loss: 0.0010\n",
      "Epoch 88/100\n",
      "68/68 [==============================] - 9s 130ms/step - loss: 0.0011\n",
      "Epoch 89/100\n",
      "68/68 [==============================] - 9s 131ms/step - loss: 9.9668e-04\n",
      "Epoch 90/100\n",
      "68/68 [==============================] - 9s 131ms/step - loss: 9.0135e-04\n",
      "Epoch 91/100\n",
      "68/68 [==============================] - 9s 136ms/step - loss: 0.0012\n",
      "Epoch 92/100\n",
      "68/68 [==============================] - 9s 132ms/step - loss: 0.0016\n",
      "Epoch 93/100\n",
      "68/68 [==============================] - 9s 134ms/step - loss: 8.9822e-04\n",
      "Epoch 94/100\n",
      "68/68 [==============================] - 9s 130ms/step - loss: 0.0010\n",
      "Epoch 95/100\n",
      "68/68 [==============================] - 9s 132ms/step - loss: 0.0013\n",
      "Epoch 96/100\n",
      "68/68 [==============================] - 9s 130ms/step - loss: 0.0010\n",
      "Epoch 97/100\n",
      "68/68 [==============================] - 9s 130ms/step - loss: 8.3456e-04\n",
      "Epoch 98/100\n",
      "68/68 [==============================] - 9s 130ms/step - loss: 8.7951e-04\n",
      "Epoch 99/100\n",
      "68/68 [==============================] - 9s 136ms/step - loss: 9.4901e-04\n",
      "Epoch 100/100\n",
      "68/68 [==============================] - 9s 128ms/step - loss: 0.0011\n"
     ]
    },
    {
     "data": {
      "text/plain": [
       "<keras.src.callbacks.History at 0x13efb187700>"
      ]
     },
     "execution_count": 22,
     "metadata": {},
     "output_type": "execute_result"
    }
   ],
   "source": [
    "model.compile(optimizer='adam', loss='mean_squared_error')\n",
    "model.fit(x_train, y_train, epochs=100)"
   ]
  },
  {
   "cell_type": "code",
   "execution_count": 23,
   "id": "85d0fbd2",
   "metadata": {},
   "outputs": [
    {
     "name": "stderr",
     "output_type": "stream",
     "text": [
      "c:\\Users\\Shahan\\AppData\\Local\\Programs\\Python\\Python310\\lib\\site-packages\\keras\\src\\engine\\training.py:3079: UserWarning: You are saving your model as an HDF5 file via `model.save()`. This file format is considered legacy. We recommend using instead the native Keras format, e.g. `model.save('my_model.keras')`.\n",
      "  saving_api.save_model(\n"
     ]
    }
   ],
   "source": [
    "model.save('final_model.h5')"
   ]
  },
  {
   "cell_type": "code",
   "execution_count": 24,
   "id": "f239e556",
   "metadata": {},
   "outputs": [
    {
     "data": {
      "text/html": [
       "<div>\n",
       "<style scoped>\n",
       "    .dataframe tbody tr th:only-of-type {\n",
       "        vertical-align: middle;\n",
       "    }\n",
       "\n",
       "    .dataframe tbody tr th {\n",
       "        vertical-align: top;\n",
       "    }\n",
       "\n",
       "    .dataframe thead th {\n",
       "        text-align: right;\n",
       "    }\n",
       "</style>\n",
       "<table border=\"1\" class=\"dataframe\">\n",
       "  <thead>\n",
       "    <tr style=\"text-align: right;\">\n",
       "      <th></th>\n",
       "      <th>Close</th>\n",
       "    </tr>\n",
       "  </thead>\n",
       "  <tbody>\n",
       "    <tr>\n",
       "      <th>2266</th>\n",
       "      <td>56804.902344</td>\n",
       "    </tr>\n",
       "    <tr>\n",
       "      <th>2267</th>\n",
       "      <td>58870.894531</td>\n",
       "    </tr>\n",
       "    <tr>\n",
       "      <th>2268</th>\n",
       "      <td>57858.921875</td>\n",
       "    </tr>\n",
       "    <tr>\n",
       "      <th>2269</th>\n",
       "      <td>58346.652344</td>\n",
       "    </tr>\n",
       "    <tr>\n",
       "      <th>2270</th>\n",
       "      <td>58313.644531</td>\n",
       "    </tr>\n",
       "  </tbody>\n",
       "</table>\n",
       "</div>"
      ],
      "text/plain": [
       "             Close\n",
       "2266  56804.902344\n",
       "2267  58870.894531\n",
       "2268  57858.921875\n",
       "2269  58346.652344\n",
       "2270  58313.644531"
      ]
     },
     "execution_count": 24,
     "metadata": {},
     "output_type": "execute_result"
    }
   ],
   "source": [
    "data_testing.head()"
   ]
  },
  {
   "cell_type": "code",
   "execution_count": 25,
   "id": "9d0b2ca6",
   "metadata": {},
   "outputs": [
    {
     "data": {
      "text/html": [
       "<div>\n",
       "<style scoped>\n",
       "    .dataframe tbody tr th:only-of-type {\n",
       "        vertical-align: middle;\n",
       "    }\n",
       "\n",
       "    .dataframe tbody tr th {\n",
       "        vertical-align: top;\n",
       "    }\n",
       "\n",
       "    .dataframe thead th {\n",
       "        text-align: right;\n",
       "    }\n",
       "</style>\n",
       "<table border=\"1\" class=\"dataframe\">\n",
       "  <thead>\n",
       "    <tr style=\"text-align: right;\">\n",
       "      <th></th>\n",
       "      <th>Close</th>\n",
       "    </tr>\n",
       "  </thead>\n",
       "  <tbody>\n",
       "    <tr>\n",
       "      <th>3138</th>\n",
       "      <td>29042.126953</td>\n",
       "    </tr>\n",
       "    <tr>\n",
       "      <th>3139</th>\n",
       "      <td>29041.855469</td>\n",
       "    </tr>\n",
       "    <tr>\n",
       "      <th>3140</th>\n",
       "      <td>29180.578125</td>\n",
       "    </tr>\n",
       "    <tr>\n",
       "      <th>3141</th>\n",
       "      <td>29765.492188</td>\n",
       "    </tr>\n",
       "    <tr>\n",
       "      <th>3142</th>\n",
       "      <td>29561.494141</td>\n",
       "    </tr>\n",
       "    <tr>\n",
       "      <th>...</th>\n",
       "      <td>...</td>\n",
       "    </tr>\n",
       "    <tr>\n",
       "      <th>3233</th>\n",
       "      <td>35655.277344</td>\n",
       "    </tr>\n",
       "    <tr>\n",
       "      <th>3234</th>\n",
       "      <td>36693.125000</td>\n",
       "    </tr>\n",
       "    <tr>\n",
       "      <th>3235</th>\n",
       "      <td>37313.968750</td>\n",
       "    </tr>\n",
       "    <tr>\n",
       "      <th>3236</th>\n",
       "      <td>37138.050781</td>\n",
       "    </tr>\n",
       "    <tr>\n",
       "      <th>3237</th>\n",
       "      <td>37054.519531</td>\n",
       "    </tr>\n",
       "  </tbody>\n",
       "</table>\n",
       "<p>100 rows × 1 columns</p>\n",
       "</div>"
      ],
      "text/plain": [
       "             Close\n",
       "3138  29042.126953\n",
       "3139  29041.855469\n",
       "3140  29180.578125\n",
       "3141  29765.492188\n",
       "3142  29561.494141\n",
       "...            ...\n",
       "3233  35655.277344\n",
       "3234  36693.125000\n",
       "3235  37313.968750\n",
       "3236  37138.050781\n",
       "3237  37054.519531\n",
       "\n",
       "[100 rows x 1 columns]"
      ]
     },
     "execution_count": 25,
     "metadata": {},
     "output_type": "execute_result"
    }
   ],
   "source": [
    "data_testing.tail(100)"
   ]
  },
  {
   "cell_type": "code",
   "execution_count": 26,
   "id": "4f853d9a",
   "metadata": {},
   "outputs": [],
   "source": [
    "past_data_100days = data_testing.tail(100)"
   ]
  },
  {
   "cell_type": "code",
   "execution_count": 27,
   "id": "e34767b7",
   "metadata": {},
   "outputs": [
    {
     "name": "stderr",
     "output_type": "stream",
     "text": [
      "C:\\Users\\Shahan\\AppData\\Local\\Temp\\ipykernel_24248\\3568412603.py:1: FutureWarning: The frame.append method is deprecated and will be removed from pandas in a future version. Use pandas.concat instead.\n",
      "  final_data = past_data_100days.append(data_testing, ignore_index=True)\n"
     ]
    }
   ],
   "source": [
    "final_data = past_data_100days.append(data_testing, ignore_index=True)"
   ]
  },
  {
   "cell_type": "code",
   "execution_count": 28,
   "id": "29edb272",
   "metadata": {},
   "outputs": [
    {
     "data": {
      "text/html": [
       "<div>\n",
       "<style scoped>\n",
       "    .dataframe tbody tr th:only-of-type {\n",
       "        vertical-align: middle;\n",
       "    }\n",
       "\n",
       "    .dataframe tbody tr th {\n",
       "        vertical-align: top;\n",
       "    }\n",
       "\n",
       "    .dataframe thead th {\n",
       "        text-align: right;\n",
       "    }\n",
       "</style>\n",
       "<table border=\"1\" class=\"dataframe\">\n",
       "  <thead>\n",
       "    <tr style=\"text-align: right;\">\n",
       "      <th></th>\n",
       "      <th>Close</th>\n",
       "    </tr>\n",
       "  </thead>\n",
       "  <tbody>\n",
       "    <tr>\n",
       "      <th>0</th>\n",
       "      <td>29042.126953</td>\n",
       "    </tr>\n",
       "    <tr>\n",
       "      <th>1</th>\n",
       "      <td>29041.855469</td>\n",
       "    </tr>\n",
       "    <tr>\n",
       "      <th>2</th>\n",
       "      <td>29180.578125</td>\n",
       "    </tr>\n",
       "    <tr>\n",
       "      <th>3</th>\n",
       "      <td>29765.492188</td>\n",
       "    </tr>\n",
       "    <tr>\n",
       "      <th>4</th>\n",
       "      <td>29561.494141</td>\n",
       "    </tr>\n",
       "  </tbody>\n",
       "</table>\n",
       "</div>"
      ],
      "text/plain": [
       "          Close\n",
       "0  29042.126953\n",
       "1  29041.855469\n",
       "2  29180.578125\n",
       "3  29765.492188\n",
       "4  29561.494141"
      ]
     },
     "execution_count": 28,
     "metadata": {},
     "output_type": "execute_result"
    }
   ],
   "source": [
    "final_data.head()"
   ]
  },
  {
   "cell_type": "code",
   "execution_count": 29,
   "id": "102da7c5",
   "metadata": {},
   "outputs": [
    {
     "data": {
      "text/plain": [
       "array([[0.25598609],\n",
       "       [0.25598084],\n",
       "       [0.25865994],\n",
       "       ...,\n",
       "       [0.41573724],\n",
       "       [0.4123398 ],\n",
       "       [0.41072659]])"
      ]
     },
     "execution_count": 29,
     "metadata": {},
     "output_type": "execute_result"
    }
   ],
   "source": [
    "input_data = scaler.fit_transform(final_data)\n",
    "input_data"
   ]
  },
  {
   "cell_type": "code",
   "execution_count": 30,
   "id": "5d33ff43",
   "metadata": {},
   "outputs": [
    {
     "data": {
      "text/plain": [
       "(1072, 1)"
      ]
     },
     "execution_count": 30,
     "metadata": {},
     "output_type": "execute_result"
    }
   ],
   "source": [
    "input_data.shape"
   ]
  },
  {
   "cell_type": "code",
   "execution_count": 31,
   "id": "74b2d4d8",
   "metadata": {},
   "outputs": [],
   "source": [
    "x_test = []\n",
    "y_test = []\n",
    "\n",
    "for i in range(100, input_data.shape[0]):\n",
    "    x_test.append(input_data[i-100: i])\n",
    "    y_test.append(input_data[i,0])"
   ]
  },
  {
   "cell_type": "code",
   "execution_count": 32,
   "id": "d6a63461",
   "metadata": {},
   "outputs": [
    {
     "data": {
      "text/plain": [
       "(972,)"
      ]
     },
     "execution_count": 32,
     "metadata": {},
     "output_type": "execute_result"
    }
   ],
   "source": [
    "x_test, y_test = np.array(x_test), np.array(y_test)\n",
    "y_test.shape"
   ]
  },
  {
   "cell_type": "code",
   "execution_count": 33,
   "id": "176f80ea",
   "metadata": {},
   "outputs": [
    {
     "name": "stdout",
     "output_type": "stream",
     "text": [
      "[[[0.25598609]\n",
      "  [0.25598084]\n",
      "  [0.25865994]\n",
      "  ...\n",
      "  [0.41573724]\n",
      "  [0.4123398 ]\n",
      "  [0.41072659]]\n",
      "\n",
      " [[0.25598084]\n",
      "  [0.25865994]\n",
      "  [0.26995618]\n",
      "  ...\n",
      "  [0.4123398 ]\n",
      "  [0.41072659]\n",
      "  [0.79215874]]\n",
      "\n",
      " [[0.25865994]\n",
      "  [0.26995618]\n",
      "  [0.26601644]\n",
      "  ...\n",
      "  [0.41072659]\n",
      "  [0.79215874]\n",
      "  [0.83205851]]\n",
      "\n",
      " ...\n",
      "\n",
      " [[0.25810723]\n",
      "  [0.25862328]\n",
      "  [0.25660341]\n",
      "  ...\n",
      "  [0.37961474]\n",
      "  [0.38370352]\n",
      "  [0.4037471 ]]\n",
      "\n",
      " [[0.25862328]\n",
      "  [0.25660341]\n",
      "  [0.25598609]\n",
      "  ...\n",
      "  [0.38370352]\n",
      "  [0.4037471 ]\n",
      "  [0.41573724]]\n",
      "\n",
      " [[0.25660341]\n",
      "  [0.25598609]\n",
      "  [0.25598084]\n",
      "  ...\n",
      "  [0.4037471 ]\n",
      "  [0.41573724]\n",
      "  [0.4123398 ]]]\n"
     ]
    }
   ],
   "source": [
    "print(x_test)"
   ]
  },
  {
   "cell_type": "code",
   "execution_count": 34,
   "id": "ab3c6e8b",
   "metadata": {},
   "outputs": [
    {
     "name": "stdout",
     "output_type": "stream",
     "text": [
      "31/31 [==============================] - 2s 39ms/step\n"
     ]
    }
   ],
   "source": [
    "predicted_value = model.predict(x_test)"
   ]
  },
  {
   "cell_type": "code",
   "execution_count": 35,
   "id": "f92ebb5a",
   "metadata": {},
   "outputs": [
    {
     "data": {
      "text/plain": [
       "(972, 3)"
      ]
     },
     "execution_count": 35,
     "metadata": {},
     "output_type": "execute_result"
    }
   ],
   "source": [
    "predicted_value.shape"
   ]
  },
  {
   "cell_type": "code",
   "execution_count": 36,
   "id": "4397446d",
   "metadata": {},
   "outputs": [
    {
     "data": {
      "text/plain": [
       "array([1.9312646e-05])"
      ]
     },
     "execution_count": 36,
     "metadata": {},
     "output_type": "execute_result"
    }
   ],
   "source": [
    "sc = scaler.scale_\n",
    "sc"
   ]
  },
  {
   "cell_type": "code",
   "execution_count": 37,
   "id": "c8044f80",
   "metadata": {},
   "outputs": [],
   "source": [
    "scale_factor = 1/sc\n",
    "predicted_value = predicted_value * scale_factor\n",
    "y_test = y_test * scale_factor"
   ]
  },
  {
   "cell_type": "code",
   "execution_count": 38,
   "id": "45a64f70",
   "metadata": {},
   "outputs": [
    {
     "data": {
      "text/plain": [
       "<matplotlib.legend.Legend at 0x13eff55b3d0>"
      ]
     },
     "execution_count": 38,
     "metadata": {},
     "output_type": "execute_result"
    },
    {
     "data": {
      "image/png": "[encoded data removed]",
      "text/plain": [
       "<Figure size 1200x600 with 1 Axes>"
      ]
     },
     "metadata": {},
     "output_type": "display_data"
    }
   ],
   "source": [
    "plt.figure(figsize=(12,6))\n",
    "plt.plot(y_test, 'y', label = 'Original ')\n",
    "plt.plot(predicted_value, 'r', label = 'Predicted Price')\n",
    "plt.xlabel('Time')\n",
    "plt.ylabel('Price')\n",
    "plt.legend()\n"
   ]
  },
  {
   "cell_type": "code",
   "execution_count": null,
   "id": "a53d7a73",
   "metadata": {},
   "outputs": [],
   "source": []
  },
  {
   "cell_type": "code",
   "execution_count": null,
   "id": "34b63f3f",
   "metadata": {},
   "outputs": [],
   "source": []
  }
 ],
 "metadata": {
  "kernelspec": {
   "display_name": "Python 3 (ipykernel)",
   "language": "python",
   "name": "python3"
  },
  "language_info": {
   "codemirror_mode": {
    "name": "ipython",
    "version": 3
   },
   "file_extension": ".py",
   "mimetype": "text/x-python",
   "name": "python",
   "nbconvert_exporter": "python",
   "pygments_lexer": "ipython3",
   "version": "3.10.6"
  }
 },
 "nbformat": 4,
 "nbformat_minor": 5
}
